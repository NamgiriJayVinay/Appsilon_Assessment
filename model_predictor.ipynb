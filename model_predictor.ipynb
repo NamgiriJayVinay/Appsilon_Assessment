{
 "cells": [
  {
   "cell_type": "code",
   "execution_count": 104,
   "id": "9e1d9a12",
   "metadata": {},
   "outputs": [],
   "source": [
    "#import torch\n",
    "from fastai.vision.all import Path,load_learner,Image\n",
    "import numpy as np\n",
    "#from fastai.vision import *\n",
    "import pandas as pd"
   ]
  },
  {
   "cell_type": "code",
   "execution_count": 105,
   "id": "dad581e1",
   "metadata": {},
   "outputs": [],
   "source": [
    "df = pd.read_csv(\"./category_to_name - Flowers.csv\")\n"
   ]
  },
  {
   "cell_type": "code",
   "execution_count": 106,
   "id": "9e3dea79",
   "metadata": {},
   "outputs": [],
   "source": [
    "path = Path('./export.pkl')\n"
   ]
  },
  {
   "cell_type": "code",
   "execution_count": 107,
   "id": "c21e7ed3",
   "metadata": {},
   "outputs": [],
   "source": [
    "learn = load_learner(path)\n"
   ]
  },
  {
   "cell_type": "code",
   "execution_count": 108,
   "id": "72bfda81",
   "metadata": {},
   "outputs": [],
   "source": [
    "import PIL.Image\n",
    "import numpy as np"
   ]
  },
  {
   "cell_type": "code",
   "execution_count": 112,
   "id": "b61e1705",
   "metadata": {},
   "outputs": [],
   "source": [
    "pil_img = PIL.Image.open('./sample_images/image_00645.jpg')\n"
   ]
  },
  {
   "cell_type": "code",
   "execution_count": 113,
   "id": "2e97f9aa",
   "metadata": {},
   "outputs": [],
   "source": [
    "img = np.asarray(pil_img)\n"
   ]
  },
  {
   "cell_type": "code",
   "execution_count": 114,
   "id": "c613e77c",
   "metadata": {},
   "outputs": [
    {
     "data": {
      "text/html": [
       "\n",
       "<style>\n",
       "    /* Turns off some styling */\n",
       "    progress {\n",
       "        /* gets rid of default border in Firefox and Opera. */\n",
       "        border: none;\n",
       "        /* Needs to be in here for Safari polyfill so background images work as expected. */\n",
       "        background-size: auto;\n",
       "    }\n",
       "    .progress-bar-interrupted, .progress-bar-interrupted::-webkit-progress-bar {\n",
       "        background: #F44336;\n",
       "    }\n",
       "</style>\n"
      ],
      "text/plain": [
       "<IPython.core.display.HTML object>"
      ]
     },
     "metadata": {},
     "output_type": "display_data"
    },
    {
     "data": {
      "text/html": [],
      "text/plain": [
       "<IPython.core.display.HTML object>"
      ]
     },
     "metadata": {},
     "output_type": "display_data"
    },
    {
     "data": {
      "text/plain": [
       "('2',\n",
       " TensorBase(9),\n",
       " TensorBase([2.6421e-06, 3.1984e-02, 6.0689e-04, 9.0370e-02, 2.7434e-06, 6.6955e-02,\n",
       "         4.3386e-03, 6.1131e-02, 3.1348e-05, 7.4349e-01, 6.7326e-04, 8.0719e-06,\n",
       "         3.4909e-04, 3.8567e-06, 1.2844e-06, 3.0267e-05, 1.8773e-05]))"
      ]
     },
     "execution_count": 114,
     "metadata": {},
     "output_type": "execute_result"
    }
   ],
   "source": [
    "learn.predict(img)\n"
   ]
  },
  {
   "cell_type": "code",
   "execution_count": 115,
   "id": "6f9224e2",
   "metadata": {},
   "outputs": [
    {
     "data": {
      "text/html": [
       "\n",
       "<style>\n",
       "    /* Turns off some styling */\n",
       "    progress {\n",
       "        /* gets rid of default border in Firefox and Opera. */\n",
       "        border: none;\n",
       "        /* Needs to be in here for Safari polyfill so background images work as expected. */\n",
       "        background-size: auto;\n",
       "    }\n",
       "    .progress-bar-interrupted, .progress-bar-interrupted::-webkit-progress-bar {\n",
       "        background: #F44336;\n",
       "    }\n",
       "</style>\n"
      ],
      "text/plain": [
       "<IPython.core.display.HTML object>"
      ]
     },
     "metadata": {},
     "output_type": "display_data"
    },
    {
     "data": {
      "text/html": [],
      "text/plain": [
       "<IPython.core.display.HTML object>"
      ]
     },
     "metadata": {},
     "output_type": "display_data"
    },
    {
     "data": {
      "text/plain": [
       "74.35"
      ]
     },
     "execution_count": 115,
     "metadata": {},
     "output_type": "execute_result"
    }
   ],
   "source": [
    "round(np.max(np.array(learn.predict(img)[2]))*100,2)\n"
   ]
  },
  {
   "cell_type": "code",
   "execution_count": 206,
   "id": "ec1ee988",
   "metadata": {},
   "outputs": [],
   "source": [
    "def get_name(cat_num):\n",
    "    return df[df.index == cat_num]\n",
    "def get_details(cat_num): #\n",
    "    return df[df.index == cat_num].T.reset_index(drop=True).rename(columns={ 1: \"Description\"})[1:]\n",
    "def predict_img(img):\n",
    "#     pil_img = PIL.Image.open(img)\n",
    "    img = np.asarray(pil_img) # Image to display   \n",
    "    return get_details(int(learn.predict(img)[0])),round(np.max(np.array(learn.predict(img)[2]))*100,2)"
   ]
  },
  {
   "cell_type": "code",
   "execution_count": 207,
   "id": "ef3b1590",
   "metadata": {},
   "outputs": [
    {
     "data": {
      "text/html": [
       "\n",
       "<style>\n",
       "    /* Turns off some styling */\n",
       "    progress {\n",
       "        /* gets rid of default border in Firefox and Opera. */\n",
       "        border: none;\n",
       "        /* Needs to be in here for Safari polyfill so background images work as expected. */\n",
       "        background-size: auto;\n",
       "    }\n",
       "    .progress-bar-interrupted, .progress-bar-interrupted::-webkit-progress-bar {\n",
       "        background: #F44336;\n",
       "    }\n",
       "</style>\n"
      ],
      "text/plain": [
       "<IPython.core.display.HTML object>"
      ]
     },
     "metadata": {},
     "output_type": "display_data"
    },
    {
     "data": {
      "text/html": [],
      "text/plain": [
       "<IPython.core.display.HTML object>"
      ]
     },
     "metadata": {},
     "output_type": "display_data"
    },
    {
     "data": {
      "text/html": [
       "\n",
       "<style>\n",
       "    /* Turns off some styling */\n",
       "    progress {\n",
       "        /* gets rid of default border in Firefox and Opera. */\n",
       "        border: none;\n",
       "        /* Needs to be in here for Safari polyfill so background images work as expected. */\n",
       "        background-size: auto;\n",
       "    }\n",
       "    .progress-bar-interrupted, .progress-bar-interrupted::-webkit-progress-bar {\n",
       "        background: #F44336;\n",
       "    }\n",
       "</style>\n"
      ],
      "text/plain": [
       "<IPython.core.display.HTML object>"
      ]
     },
     "metadata": {},
     "output_type": "display_data"
    },
    {
     "data": {
      "text/html": [],
      "text/plain": [
       "<IPython.core.display.HTML object>"
      ]
     },
     "metadata": {},
     "output_type": "display_data"
    }
   ],
   "source": [
    "pred_class, prob = predict_img('sample_images/image_01830.jpg')\n"
   ]
  },
  {
   "cell_type": "code",
   "execution_count": 215,
   "id": "b3073dbd",
   "metadata": {},
   "outputs": [],
   "source": [
    "# pred_class.columns = pred_class.iloc[0] \n",
    "pred_class=pred_class[1:]\n"
   ]
  },
  {
   "cell_type": "code",
   "execution_count": 216,
   "id": "d36a281a",
   "metadata": {},
   "outputs": [
    {
     "data": {
      "text/html": [
       "<div>\n",
       "<style scoped>\n",
       "    .dataframe tbody tr th:only-of-type {\n",
       "        vertical-align: middle;\n",
       "    }\n",
       "\n",
       "    .dataframe tbody tr th {\n",
       "        vertical-align: top;\n",
       "    }\n",
       "\n",
       "    .dataframe thead th {\n",
       "        text-align: right;\n",
       "    }\n",
       "</style>\n",
       "<table border=\"1\" class=\"dataframe\">\n",
       "  <thead>\n",
       "    <tr style=\"text-align: right;\">\n",
       "      <th>1</th>\n",
       "      <th>colts_foot</th>\n",
       "    </tr>\n",
       "  </thead>\n",
       "  <tbody>\n",
       "  </tbody>\n",
       "</table>\n",
       "</div>"
      ],
      "text/plain": [
       "Empty DataFrame\n",
       "Columns: [colts_foot]\n",
       "Index: []"
      ]
     },
     "execution_count": 216,
     "metadata": {},
     "output_type": "execute_result"
    }
   ],
   "source": [
    "pred_class"
   ]
  },
  {
   "cell_type": "code",
   "execution_count": 217,
   "id": "51fd38ce",
   "metadata": {},
   "outputs": [
    {
     "data": {
      "text/plain": [
       "74.35"
      ]
     },
     "execution_count": 217,
     "metadata": {},
     "output_type": "execute_result"
    }
   ],
   "source": [
    "prob\n"
   ]
  },
  {
   "cell_type": "code",
   "execution_count": 218,
   "id": "82554fe0",
   "metadata": {},
   "outputs": [
    {
     "name": "stdout",
     "output_type": "stream",
     "text": [
      "Flower Name:  [Empty DataFrame\n",
      "Columns: [colts_foot]\n",
      "Index: []] | Probability: [74.35%]\n"
     ]
    }
   ],
   "source": [
    "print(\"Flower Name:  [\" + str(pred_class) + \"] \" + \"| Probability: [\" + str(prob) + '%]')\n"
   ]
  },
  {
   "cell_type": "code",
   "execution_count": null,
   "id": "3e8bcb0f",
   "metadata": {},
   "outputs": [],
   "source": []
  },
  {
   "cell_type": "code",
   "execution_count": null,
   "id": "44d9d26c",
   "metadata": {},
   "outputs": [],
   "source": []
  },
  {
   "cell_type": "code",
   "execution_count": null,
   "id": "4c9d2ada",
   "metadata": {},
   "outputs": [],
   "source": []
  }
 ],
 "metadata": {
  "kernelspec": {
   "display_name": "Python 3 (ipykernel)",
   "language": "python",
   "name": "python3"
  },
  "language_info": {
   "codemirror_mode": {
    "name": "ipython",
    "version": 3
   },
   "file_extension": ".py",
   "mimetype": "text/x-python",
   "name": "python",
   "nbconvert_exporter": "python",
   "pygments_lexer": "ipython3",
   "version": "3.10.4"
  }
 },
 "nbformat": 4,
 "nbformat_minor": 5
}
